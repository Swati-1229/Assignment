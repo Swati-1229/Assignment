{
 "cells": [
  {
   "cell_type": "markdown",
   "id": "07631440",
   "metadata": {},
   "source": [
    "Q1 You need to take two input as number from the user and find out the Greatest Common Divisor of those two number and save it in a C drive with the file name as gcd_data.txt"
   ]
  },
  {
   "cell_type": "code",
   "execution_count": 1,
   "id": "a2f2becf",
   "metadata": {},
   "outputs": [
    {
     "name": "stdout",
     "output_type": "stream",
     "text": [
      "enter the first number64\n",
      "enter the second number12\n",
      "the gcd of the num 64 and 12 is 4\n"
     ]
    }
   ],
   "source": [
    "def gcd(a, b):\n",
    "    if b == 0:\n",
    "       return a\n",
    "    else:\n",
    "        return gcd(b,a%b)\n",
    "a=int(input(\"enter the first number\"))\n",
    "b=int(input(\"enter the second number\"))\n",
    "print(f\"the gcd of the num {a} and {b} is {gcd(a,b)}\")"
   ]
  },
  {
   "cell_type": "markdown",
   "id": "88ed9648",
   "metadata": {},
   "source": [
    "Q3 You need a create a function which will check the validation of user password Conditions are- \n",
    "       password should have at least 1 capital letter \n",
    "       - smaller letter\n",
    "       -Any special character only like!@#$%^\n",
    "       - Length of the password should be minimum character maximum 15 character.\n",
    "       - Print a suitable message in case all the conditions are true other any other message"
   ]
  },
  {
   "cell_type": "code",
   "execution_count": 4,
   "id": "c9f61701",
   "metadata": {},
   "outputs": [
    {
     "name": "stdout",
     "output_type": "stream",
     "text": [
      "Input your passwordSwati@126\n",
      "Valid password\n"
     ]
    }
   ],
   "source": [
    "import re\n",
    "password=input(\"Input your password\")\n",
    "x=True\n",
    "while x:\n",
    "   if(len(password)<6 or len(password)>15):\n",
    "          break\n",
    "   elif not re.search(\"[a-z]\",password):\n",
    "        print(\"wrong atleast one small letter\")\n",
    "        break\n",
    "   elif not re.search(\"[A-Z]\",password):        \n",
    "         print(\"wrong atleast one upper letter\")\n",
    "         break\n",
    "   elif not re.search(\"[0-9]\",password):\n",
    "         print(\"worng password contains number\")\n",
    "         break\n",
    "   elif not re.search(\"[$#@!%]\",password):\n",
    "        print(\"wrong input one special character\")\n",
    "        break\n",
    "   else:\n",
    "        print(\"Valid password\")\n",
    "        x=False"
   ]
  },
  {
   "cell_type": "code",
   "execution_count": null,
   "id": "e15e2491",
   "metadata": {},
   "outputs": [],
   "source": []
  }
 ],
 "metadata": {
  "kernelspec": {
   "display_name": "Python 3",
   "language": "python",
   "name": "python3"
  },
  "language_info": {
   "codemirror_mode": {
    "name": "ipython",
    "version": 3
   },
   "file_extension": ".py",
   "mimetype": "text/x-python",
   "name": "python",
   "nbconvert_exporter": "python",
   "pygments_lexer": "ipython3",
   "version": "3.8.8"
  }
 },
 "nbformat": 4,
 "nbformat_minor": 5
}
